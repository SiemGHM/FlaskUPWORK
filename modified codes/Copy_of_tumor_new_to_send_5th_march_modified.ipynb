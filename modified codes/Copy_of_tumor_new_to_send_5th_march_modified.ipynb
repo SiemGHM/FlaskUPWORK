{
  "cells": [
    {
      "cell_type": "code",
      "execution_count": null,
      "metadata": {
        "id": "pIl7GOe3P8qZ",
        "outputId": "d4262e8d-9ae7-4eab-ad25-59d1bbdfc86f",
        "colab": {
          "base_uri": "https://localhost:8080/"
        }
      },
      "outputs": [
        {
          "output_type": "stream",
          "name": "stdout",
          "text": [
            "test\n"
          ]
        }
      ],
      "source": [
        "print(\"test\")"
      ]
    },
    {
      "cell_type": "code",
      "execution_count": null,
      "metadata": {
        "id": "tp80qbfrP8qe"
      },
      "outputs": [],
      "source": [
        "# Import libraries\n",
        "import os\n",
        "import cv2\n",
        "import glob\n",
        "\n",
        "import numpy as np\n",
        "import pandas as pd\n",
        "import seaborn as sns\n",
        "import matplotlib.pyplot as plt\n",
        "import tensorflow as tf\n",
        "from numpy import savetxt\n",
        "from tensorflow import keras\n",
        "from sklearn.utils import shuffle\n",
        "\n",
        "from sklearn.model_selection import train_test_split\n",
        "from sklearn.metrics import classification_report, confusion_matrix\n",
        "from sklearn.metrics import roc_curve\n",
        "from tensorflow.keras.utils import to_categorical\n",
        "from tensorflow.keras import backend as K\n",
        "K.set_image_data_format('channels_last')\n",
        "\n",
        "\n",
        "from tensorflow.keras.models import Sequential\n",
        "from tensorflow.keras.layers import Dense, Activation, Dropout, Flatten\n",
        "from tensorflow.keras.layers import Conv2D, MaxPooling2D, AveragePooling2D\n",
        "from tensorflow.keras.optimizers import Adam\n",
        "\n",
        "from tensorflow.keras.callbacks import EarlyStopping, ReduceLROnPlateau, TensorBoard, ModelCheckpoint"
      ]
    },
    {
      "cell_type": "code",
      "execution_count": null,
      "metadata": {
        "colab": {
          "base_uri": "https://localhost:8080/"
        },
        "id": "EM_NQNkjQO8Y",
        "outputId": "bb2f79bc-2e77-4c00-f08a-190aa3a3baab"
      },
      "outputs": [
        {
          "output_type": "stream",
          "name": "stdout",
          "text": [
            "Drive already mounted at /content/drive; to attempt to forcibly remount, call drive.mount(\"/content/drive\", force_remount=True).\n"
          ]
        }
      ],
      "source": [
        "from google.colab import drive\n",
        "drive.mount('/content/drive')"
      ]
    },
    {
      "cell_type": "code",
      "execution_count": null,
      "metadata": {
        "id": "UT-zFe6EP8qg"
      },
      "outputs": [],
      "source": [
        "labels = ['no_tumor', 'tumor']\n",
        "class_map = {\n",
        "    'no_tumor': 0,\n",
        "    'tumor': 1,\n",
        "    'no_tumor_test': 0,\n",
        "    'tumor_test': 1\n",
        "}\n",
        "\n",
        "train_img = []\n",
        "train_labels = []\n",
        "\n",
        "test_img = []\n",
        "test_labels = []\n",
        "\n",
        "path_train = '/content/drive/My Drive/tumor1/train'\n",
        "path_test = '/content/drive/My Drive/tumor1/test'\n",
        "\n",
        "img_size = 128\n",
        "\n",
        "dir_map = {\n",
        "    'images': 'no_tumor',  # Map 'images' directory to 'no_tumor' class\n",
        "    # Add more mappings as needed\n",
        "}\n",
        "\n",
        "# For train set\n",
        "for i in os.listdir(path_train):\n",
        "    full_path = os.path.join(path_train, i)\n",
        "    if os.path.isdir(full_path):\n",
        "        for j in os.listdir(full_path):\n",
        "            img_path = os.path.join(full_path, j)\n",
        "            if os.path.isfile(img_path):\n",
        "                img_raw = cv2.imread(img_path)\n",
        "                if img_raw is not None:\n",
        "                    img = cv2.cvtColor(img_raw, cv2.COLOR_BGR2RGB)\n",
        "                    resize_img = cv2.resize(img, (img_size, img_size))\n",
        "                    train_img.append(resize_img)\n",
        "                    train_labels.append(class_map[dir_map[i]])  # Use dir_map to get the correct key\n",
        "\n",
        "# For test set\n",
        "for i in os.listdir(path_test):\n",
        "    full_path = os.path.join(path_test, i)\n",
        "    if os.path.isdir(full_path):\n",
        "        for j in os.listdir(full_path):\n",
        "            img_path = os.path.join(full_path, j)\n",
        "            if os.path.isfile(img_path):\n",
        "                img_raw = cv2.imread(img_path)\n",
        "                if img_raw is not None:\n",
        "                    img = cv2.cvtColor(img_raw, cv2.COLOR_BGR2RGB)\n",
        "                    resize_img = cv2.resize(img, (img_size, img_size))\n",
        "                    test_img.append(resize_img)\n",
        "                    test_labels.append(class_map[dir_map[i]])  # Use dir_map to get the correct key\n",
        "\n",
        "train_img = np.array(train_img)\n",
        "train_labels = np.array(train_labels)\n",
        "test_img = np.array(test_img)\n",
        "test_labels = np.array(test_labels)"
      ]
    },
    {
      "cell_type": "code",
      "execution_count": null,
      "metadata": {
        "colab": {
          "base_uri": "https://localhost:8080/"
        },
        "id": "laxdkZ_tP8qh",
        "outputId": "16aa0894-bc14-4174-e13a-1de4c0140803"
      },
      "outputs": [
        {
          "output_type": "stream",
          "name": "stdout",
          "text": [
            "Shape of full train set is: (1, 128, 128, 3)\n",
            "Shape of full test set is: (1, 128, 128, 3)\n"
          ]
        }
      ],
      "source": [
        "print(\"Shape of full train set is:\", train_img.shape)\n",
        "print(\"Shape of full test set is:\", test_img.shape)"
      ]
    },
    {
      "cell_type": "code",
      "execution_count": null,
      "metadata": {
        "id": "Ad6R-stKP8qm"
      },
      "outputs": [],
      "source": [
        "X_train = train_img\n",
        "y_train = train_labels\n",
        "X_test = test_img\n",
        "y_test = test_labels"
      ]
    },
    {
      "cell_type": "code",
      "execution_count": null,
      "metadata": {
        "id": "_jjsry-crtCR"
      },
      "outputs": [],
      "source": [
        "y_train =- tf.keras.utils.to_categorical(y_train)\n",
        "y_test = -tf.keras.utils.to_categorical(y_test)"
      ]
    },
    {
      "cell_type": "code",
      "execution_count": null,
      "metadata": {
        "colab": {
          "base_uri": "https://localhost:8080/"
        },
        "id": "PhrOAlGortCT",
        "outputId": "86f93159-8865-41a4-cefd-f7907eeb18e0"
      },
      "outputs": [
        {
          "output_type": "stream",
          "name": "stdout",
          "text": [
            "(1, 128, 128, 3)\n",
            "(1, 128, 128, 3)\n",
            "(1, 1)\n",
            "(1, 1)\n"
          ]
        }
      ],
      "source": [
        "print(X_train.shape)\n",
        "print(X_test.shape)\n",
        "print(y_train.shape)\n",
        "print(y_test.shape)"
      ]
    },
    {
      "cell_type": "code",
      "execution_count": null,
      "metadata": {
        "colab": {
          "base_uri": "https://localhost:8080/"
        },
        "id": "Y98y4tudP8qn",
        "outputId": "bcebf0e4-b90a-49ef-d0a0-9c39b268f70a"
      },
      "outputs": [
        {
          "output_type": "stream",
          "name": "stdout",
          "text": [
            "Model: \"sequential\"\n",
            "_________________________________________________________________\n",
            " Layer (type)                Output Shape              Param #   \n",
            "=================================================================\n",
            " conv2d (Conv2D)             (None, 126, 126, 16)      448       \n",
            "                                                                 \n",
            " max_pooling2d (MaxPooling2  (None, 63, 63, 16)        0         \n",
            " D)                                                              \n",
            "                                                                 \n",
            " conv2d_1 (Conv2D)           (None, 61, 61, 32)        4640      \n",
            "                                                                 \n",
            " max_pooling2d_1 (MaxPoolin  (None, 30, 30, 32)        0         \n",
            " g2D)                                                            \n",
            "                                                                 \n",
            " flatten (Flatten)           (None, 28800)             0         \n",
            "                                                                 \n",
            " dense (Dense)               (None, 64)                1843264   \n",
            "                                                                 \n",
            " dense_1 (Dense)             (None, 2)                 130       \n",
            "                                                                 \n",
            "=================================================================\n",
            "Total params: 1848482 (7.05 MB)\n",
            "Trainable params: 1848482 (7.05 MB)\n",
            "Non-trainable params: 0 (0.00 Byte)\n",
            "_________________________________________________________________\n"
          ]
        }
      ],
      "source": [
        "model = Sequential()\n",
        "\n",
        "model.add(Conv2D(16, kernel_size=(3,3), activation='relu', input_shape=(128, 128, 3)))\n",
        "model.add(MaxPooling2D(pool_size=(2,2), padding=\"valid\"))\n",
        "\n",
        "model.add(Conv2D(32, kernel_size=(3,3), activation='relu', input_shape=(128, 128, 3)))\n",
        "model.add(MaxPooling2D(pool_size=(2,2), padding=\"valid\"))\n",
        "\n",
        "model.add(Flatten())\n",
        "\n",
        "model.add(Dense(64, activation='relu'))\n",
        "model.add(Dense(2, activation='softmax'))\n",
        "\n",
        "model.summary()\n",
        "# model.get_config()\n",
        "# model.layers[0].get_config()\n",
        "# model.layers[0].input_shape\n",
        "# model.layers[0].output_shape\n",
        "# model.layers[0].output\n",
        "# model.layers[0].get_weights()"
      ]
    },
    {
      "cell_type": "code",
      "execution_count": null,
      "metadata": {
        "id": "ghAa4jSGP8qo"
      },
      "outputs": [],
      "source": [
        "model.compile(optimizer='Adam', loss='binary_crossentropy', metrics=['accuracy'])"
      ]
    },
    {
      "cell_type": "code",
      "execution_count": null,
      "metadata": {
        "id": "8ha7fWc0P8qo"
      },
      "outputs": [],
      "source": [
        "checkpoint = ModelCheckpoint(\"tumor_research.h5\", monitor=\"accuracy\", save_best_only=True, mode=\"auto\", verbose=1)\n",
        "reduce_lr = ReduceLROnPlateau(monitor='loss', factor=0.3, patience=2, min_delta=0.001, mode='auto', verbose=1)"
      ]
    },
    {
      "cell_type": "code",
      "execution_count": null,
      "metadata": {
        "id": "WY5Lt5EVP8qo"
      },
      "outputs": [],
      "source": [
        "# Train and fit with appropiate batch size, epochs, verbose = 1 and validation set\n",
        "hist = model.fit(X_train, y_train, batch_size=32, epochs=20, verbose=1,\n",
        "                callbacks=[checkpoint,reduce_lr])"
      ]
    },
    {
      "cell_type": "code",
      "execution_count": null,
      "metadata": {
        "id": "KFWKMZ65sOvY"
      },
      "outputs": [],
      "source": [
        "# Custom activation function\n",
        "from keras.layers import Activation\n",
        "from keras import backend as K\n",
        "from keras.utils.generic_utils import get_custom_objects\n",
        "\n",
        "def custom_activation(x):\n",
        "    return (K.sigmoid(x) * 5) - 1\n",
        "\n",
        "# Update custom objects with the new activation function\n",
        "get_custom_objects().update({'custom_activation': Activation(custom_activation)})\n"
      ]
    },
    {
      "cell_type": "code",
      "execution_count": null,
      "metadata": {
        "colab": {
          "base_uri": "https://localhost:8080/"
        },
        "id": "hDlnuaYTrtCY",
        "outputId": "5a288305-96f0-401a-f95c-63474b2fa6eb"
      },
      "outputs": [
        {
          "output_type": "stream",
          "name": "stdout",
          "text": [
            "1/1 [==============================] - 0s 209ms/step\n"
          ]
        }
      ],
      "source": [
        "y_pred = model.predict(X_test)"
      ]
    },
    {
      "cell_type": "code",
      "execution_count": null,
      "metadata": {
        "id": "kK-VRJyqrtCc"
      },
      "outputs": [],
      "source": [
        "y_test = np.argmax(y_test,axis=1)\n",
        "y_pred = np.argmax(y_pred, axis=1)"
      ]
    },
    {
      "cell_type": "code",
      "execution_count": null,
      "metadata": {
        "colab": {
          "base_uri": "https://localhost:8080/"
        },
        "id": "BV49S6NErtCd",
        "outputId": "1829606f-ef03-480f-f45c-d45babfb4266"
      },
      "outputs": [
        {
          "output_type": "stream",
          "name": "stdout",
          "text": [
            "              precision    recall  f1-score   support\n",
            "\n",
            "           0       0.00      0.00      0.00       1.0\n",
            "           1       0.00      0.00      0.00       0.0\n",
            "\n",
            "    accuracy                           0.00       1.0\n",
            "   macro avg       0.00      0.00      0.00       1.0\n",
            "weighted avg       0.00      0.00      0.00       1.0\n",
            "\n"
          ]
        },
        {
          "output_type": "stream",
          "name": "stderr",
          "text": [
            "/usr/local/lib/python3.10/dist-packages/sklearn/metrics/_classification.py:1344: UndefinedMetricWarning: Precision and F-score are ill-defined and being set to 0.0 in labels with no predicted samples. Use `zero_division` parameter to control this behavior.\n",
            "  _warn_prf(average, modifier, msg_start, len(result))\n",
            "/usr/local/lib/python3.10/dist-packages/sklearn/metrics/_classification.py:1344: UndefinedMetricWarning: Recall and F-score are ill-defined and being set to 0.0 in labels with no true samples. Use `zero_division` parameter to control this behavior.\n",
            "  _warn_prf(average, modifier, msg_start, len(result))\n",
            "/usr/local/lib/python3.10/dist-packages/sklearn/metrics/_classification.py:1344: UndefinedMetricWarning: Precision and F-score are ill-defined and being set to 0.0 in labels with no predicted samples. Use `zero_division` parameter to control this behavior.\n",
            "  _warn_prf(average, modifier, msg_start, len(result))\n",
            "/usr/local/lib/python3.10/dist-packages/sklearn/metrics/_classification.py:1344: UndefinedMetricWarning: Recall and F-score are ill-defined and being set to 0.0 in labels with no true samples. Use `zero_division` parameter to control this behavior.\n",
            "  _warn_prf(average, modifier, msg_start, len(result))\n",
            "/usr/local/lib/python3.10/dist-packages/sklearn/metrics/_classification.py:1344: UndefinedMetricWarning: Precision and F-score are ill-defined and being set to 0.0 in labels with no predicted samples. Use `zero_division` parameter to control this behavior.\n",
            "  _warn_prf(average, modifier, msg_start, len(result))\n",
            "/usr/local/lib/python3.10/dist-packages/sklearn/metrics/_classification.py:1344: UndefinedMetricWarning: Recall and F-score are ill-defined and being set to 0.0 in labels with no true samples. Use `zero_division` parameter to control this behavior.\n",
            "  _warn_prf(average, modifier, msg_start, len(result))\n"
          ]
        }
      ],
      "source": [
        "print(classification_report(y_test, y_pred))"
      ]
    },
    {
      "cell_type": "code",
      "execution_count": null,
      "metadata": {
        "colab": {
          "base_uri": "https://localhost:8080/",
          "height": 561
        },
        "id": "AM3DYxsXP8qu",
        "outputId": "2492c84c-3d79-4be3-8d7a-eedfd410d2c2"
      },
      "outputs": [
        {
          "output_type": "stream",
          "name": "stdout",
          "text": [
            "Confusion matrix, without normalization\n",
            "[[0 1]\n",
            " [0 0]]\n"
          ]
        },
        {
          "output_type": "display_data",
          "data": {
            "text/plain": [
              "<Figure size 640x480 with 2 Axes>"
            ],
            "image/png": "[encoded data removed]"
          },
          "metadata": {}
        }
      ],
      "source": [
        "import itertools\n",
        "\n",
        "target_names = ['no tumor', 'tumor']\n",
        "\n",
        "# Plotting the confusion matrix\n",
        "def plot_confusion_matrix(cm, classes,\n",
        "                          normalize = False,\n",
        "                          title = 'Confusion matrix',\n",
        "                          cmap = plt.cm.Blues):\n",
        "\n",
        "    \"\"\"\n",
        "    This function prints and plots the confusion matrix.\n",
        "    Normalization can be applied by setting 'normalize=True'.\n",
        "    \"\"\"\n",
        "\n",
        "    plt.imshow(cm, interpolation='nearest', cmap=cmap)\n",
        "    plt.title(title)\n",
        "    plt.colorbar()\n",
        "    tick_marks = np.arange(len(classes))\n",
        "    plt.xticks(tick_marks, classes, rotation=45)\n",
        "    plt.yticks(tick_marks, classes)\n",
        "\n",
        "    if normalize:\n",
        "        cm = cm.astype('float') / cm.sum(axis=1)[:, np.newaxis]\n",
        "        print(\"Normalized confusion matrix\")\n",
        "    else:\n",
        "        print('Confusion matrix, without normalization')\n",
        "\n",
        "    print(cm)\n",
        "\n",
        "    thresh = cm.max() / 2.\n",
        "    for i, j in itertools.product(range(cm.shape[0]), range(cm.shape[1])):\n",
        "        plt.text(j, i, cm[i, j],\n",
        "                 horizontalalignment=\"center\",\n",
        "                 color=\"white\" if cm[i, j] > thresh else \"black\")\n",
        "\n",
        "    plt.tight_layout()\n",
        "    plt.ylabel('True label')\n",
        "    plt.xlabel('Predicted label')\n",
        "\n",
        "cnf_matrix = (confusion_matrix(y_test, y_pred))\n",
        "\n",
        "np.set_printoptions(precision=3)\n",
        "\n",
        "plt.figure()\n",
        "\n",
        "plot_confusion_matrix(cnf_matrix, classes=target_names,\n",
        "                      title='Confusion matrix')\n",
        "\n",
        "plt.show()"
      ]
    },
    {
      "cell_type": "code",
      "execution_count": null,
      "metadata": {
        "id": "iA_L8G1QrtCf",
        "colab": {
          "base_uri": "https://localhost:8080/"
        },
        "outputId": "7911ac1a-7e9f-468b-dcf3-3fd570cba5ea"
      },
      "outputs": [
        {
          "output_type": "stream",
          "name": "stderr",
          "text": [
            "/usr/local/lib/python3.10/dist-packages/sklearn/metrics/_ranking.py:1029: UndefinedMetricWarning: No positive samples in y_true, true positive value should be meaningless\n",
            "  warnings.warn(\n"
          ]
        }
      ],
      "source": [
        "fpr, tpr, thresholds = roc_curve(y_test, y_pred)"
      ]
    },
    {
      "cell_type": "code",
      "execution_count": null,
      "metadata": {
        "id": "-uOFqV_fknz0"
      },
      "outputs": [],
      "source": [
        "import pandas as pd\n",
        "\n",
        "# Create a dataframe with y_test and y_pred\n",
        "df = pd.DataFrame({'y_test': y_test, 'y_pred': y_pred})\n",
        "\n",
        "# Save dataframe to a CSV file\n",
        "df.to_csv('predictions.csv', index=False)"
      ]
    },
    {
      "cell_type": "code",
      "execution_count": null,
      "metadata": {
        "colab": {
          "base_uri": "https://localhost:8080/",
          "height": 472
        },
        "id": "2T1lFCKLrtCf",
        "outputId": "4c9e6ad3-8c8d-42d9-b38c-ee0a311bb0ec"
      },
      "outputs": [
        {
          "output_type": "display_data",
          "data": {
            "text/plain": [
              "<Figure size 640x480 with 1 Axes>"
            ],
            "image/png": "[encoded data removed]"
          },
          "metadata": {}
        }
      ],
      "source": [
        "plt.plot(fpr,tpr)\n",
        "plt.title('ROC Curve')\n",
        "plt.xlabel('False Positive Rate')\n",
        "plt.ylabel('True Positive Rate')\n",
        "plt.show()"
      ]
    },
    {
      "cell_type": "code",
      "source": [],
      "metadata": {
        "id": "beAmsRZnNYXr"
      },
      "execution_count": null,
      "outputs": []
    }
  ],
  "metadata": {
    "colab": {
      "provenance": []
    },
    "kernelspec": {
      "display_name": "Python 3.9.13 ('loaded_system')",
      "language": "python",
      "name": "python3"
    },
    "language_info": {
      "codemirror_mode": {
        "name": "ipython",
        "version": 3
      },
      "file_extension": ".py",
      "mimetype": "text/x-python",
      "name": "python",
      "nbconvert_exporter": "python",
      "pygments_lexer": "ipython3",
      "version": "3.11.5"
    },
    "orig_nbformat": 4,
    "vscode": {
      "interpreter": {
        "hash": "11aaae23f154bdccb4b3e0704490e26d5abbb87e81f653ed8a487935b5ab297b"
      }
    }
  },
  "nbformat": 4,
  "nbformat_minor": 0
}